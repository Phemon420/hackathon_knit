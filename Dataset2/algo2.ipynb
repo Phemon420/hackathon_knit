{
 "cells": [
  {
   "cell_type": "code",
   "execution_count": 1,
   "id": "4c85664f",
   "metadata": {},
   "outputs": [
    {
     "name": "stdout",
     "output_type": "stream",
     "text": [
      "Cluster sizes:\n",
      " Cluster\n",
      "0    251\n",
      "1      7\n",
      "2      5\n",
      "Name: count, dtype: int64\n",
      "\n",
      "Cluster centers (approx original scale):\n",
      "  Project_Count  Cumulative_Expenditure_RsCr  Cost_Escalation_Pct  Cluster\n",
      "      3.163347                  6900.048845            11.050748        0\n",
      "     25.142857                136581.305714            56.980389        1\n",
      "      1.600000                 11503.374000           264.594328        2\n",
      "\n",
      "Saved clustering_with_labels.csv\n"
     ]
    }
   ],
   "source": [
    "# budget_efficiency_clustering.py\n",
    "import pandas as pd\n",
    "import numpy as np\n",
    "from sklearn.cluster import KMeans\n",
    "from sklearn.preprocessing import StandardScaler\n",
    "\n",
    "file_path = \"ongoing_projects2_clean.csv\"\n",
    "df = pd.read_csv(file_path).rename(columns=lambda c: c.strip())\n",
    "\n",
    "# Minimal renames (match your file)\n",
    "for c in df.columns:\n",
    "    if \"Original Cost\" in c:\n",
    "        df = df.rename(columns={c: \"Original_Cost_RsCr\"})\n",
    "    if \"Latest Revised Cost\" in c:\n",
    "        df = df.rename(columns={c: \"Latest_Revised_Cost_RsCr\"})\n",
    "    if \"Project Count\" in c:\n",
    "        df = df.rename(columns={c: \"Project_Count\"})\n",
    "    if \"Cumulative\" in c:\n",
    "        df = df.rename(columns={c: c,})\n",
    "df = df.rename(columns={col: (\"Cumulative_Expenditure_RsCr\" if \"Cumulative\" in col else col) for col in df.columns})\n",
    "\n",
    "# Feature selection\n",
    "features = [\"Project_Count\", \"Cumulative_Expenditure_RsCr\", \"Cost_Escalation_Pct\"]\n",
    "# compute escalation if missing\n",
    "if \"Cost_Escalation_Pct\" not in df.columns:\n",
    "    df[\"Cost_Escalation_Pct\"] = np.where(\n",
    "        (df.get(\"Original_Cost_RsCr\").notna()) & (df.get(\"Original_Cost_RsCr\") != 0),\n",
    "        (df.get(\"Latest_Revised_Cost_RsCr\") - df.get(\"Original_Cost_RsCr\")) / df.get(\"Original_Cost_RsCr\") * 100,\n",
    "        np.nan\n",
    "    )\n",
    "\n",
    "# Fill NaNs (median for escalation, zeros for expenditure/project_count if necessary)\n",
    "df[\"Cost_Escalation_Pct\"] = df[\"Cost_Escalation_Pct\"].fillna(df[\"Cost_Escalation_Pct\"].median())\n",
    "df[\"Cumulative_Expenditure_RsCr\"] = df[\"Cumulative_Expenditure_RsCr\"].fillna(0)\n",
    "df[\"Project_Count\"] = df[\"Project_Count\"].fillna(0)\n",
    "\n",
    "X = df[features].values\n",
    "scaler = StandardScaler()\n",
    "X_scaled = scaler.fit_transform(X)\n",
    "\n",
    "# KMeans clustering - k=3 (you can change)\n",
    "k = 3\n",
    "model = KMeans(n_clusters=k, random_state=42)\n",
    "labels = model.fit_predict(X_scaled)\n",
    "df[\"Cluster\"] = labels\n",
    "\n",
    "# Cluster centers in original scale\n",
    "centers_orig = scaler.inverse_transform(model.cluster_centers_)\n",
    "centers_df = pd.DataFrame(centers_orig, columns=features)\n",
    "centers_df[\"Cluster\"] = centers_df.index\n",
    "\n",
    "print(\"Cluster sizes:\\n\", df[\"Cluster\"].value_counts().sort_index())\n",
    "print(\"\\nCluster centers (approx original scale):\\n\", centers_df.to_string(index=False))\n",
    "\n",
    "# Save cluster assignment\n",
    "df.to_csv(\"clustering_with_labels.csv\", index=False)\n",
    "print(\"\\nSaved clustering_with_labels.csv\")\n"
   ]
  },
  {
   "cell_type": "code",
   "execution_count": null,
   "id": "b7c205fd",
   "metadata": {},
   "outputs": [],
   "source": []
  }
 ],
 "metadata": {
  "kernelspec": {
   "display_name": "env",
   "language": "python",
   "name": "python3"
  },
  "language_info": {
   "codemirror_mode": {
    "name": "ipython",
    "version": 3
   },
   "file_extension": ".py",
   "mimetype": "text/x-python",
   "name": "python",
   "nbconvert_exporter": "python",
   "pygments_lexer": "ipython3",
   "version": "3.13.5"
  }
 },
 "nbformat": 4,
 "nbformat_minor": 5
}
