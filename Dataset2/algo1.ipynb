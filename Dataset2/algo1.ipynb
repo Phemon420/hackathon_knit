{
 "cells": [
  {
   "cell_type": "code",
   "execution_count": 30,
   "id": "b9c7544b",
   "metadata": {},
   "outputs": [],
   "source": [
    "# cost_overrun_analysis.py\n",
    "import pandas as pd\n",
    "import numpy as np"
   ]
  },
  {
   "cell_type": "code",
   "execution_count": 31,
   "id": "e403060f",
   "metadata": {},
   "outputs": [],
   "source": [
    "file_path = \"ongoing_projects2_clean.csv\"  # change if needed\n",
    "df = pd.read_csv(file_path)"
   ]
  },
  {
   "cell_type": "code",
   "execution_count": 32,
   "id": "1f8f080b",
   "metadata": {},
   "outputs": [],
   "source": [
    "df.drop(columns=['Sl.No'], inplace=True)"
   ]
  },
  {
   "cell_type": "code",
   "execution_count": 33,
   "id": "b506caf9",
   "metadata": {},
   "outputs": [],
   "source": [
    "# Normalize column names (adjust if your file uses different names)\n",
    "df = df.rename(columns=lambda c: c.strip())\n",
    "# Try to detect the cumulative column name if it contains \"Cumulative\"\n",
    "for c in df.columns:\n",
    "    if \"Cumulative\" in c:\n",
    "        df = df.rename(columns={c: \"Cumulative_Expenditure_RsCr\"})\n",
    "df = df.rename(columns={\n",
    "    \"Original Cost\": \"Original_Cost_RsCr\",\n",
    "    \"Latest Revised Cost\": \"Latest_Revised_Cost_RsCr\",\n",
    "    \"Project Count\": \"Project_Count\",\n",
    "    \"STATE NAME\": \"State\",\n",
    "    \"Allocated To\": \"Allocated_To\",\n",
    "    \"Sector\": \"Sector\"\n",
    "})"
   ]
  },
  {
   "cell_type": "code",
   "execution_count": 34,
   "id": "359a73bd",
   "metadata": {},
   "outputs": [],
   "source": [
    "# Ensure numeric types\n",
    "num_cols = [\"Original_Cost_RsCr\", \"Latest_Revised_Cost_RsCr\", \"Cumulative_Expenditure_RsCr\", \"Project_Count\"]\n",
    "for col in num_cols:\n",
    "    if col in df.columns:\n",
    "        df[col] = pd.to_numeric(df[col], errors=\"coerce\")"
   ]
  },
  {
   "cell_type": "code",
   "execution_count": 35,
   "id": "5148589f",
   "metadata": {},
   "outputs": [],
   "source": [
    "# Compute escalation % safely\n",
    "df[\"Cost_Escalation_Pct\"] = np.where(\n",
    "    (df[\"Original_Cost_RsCr\"].notna()) & (df[\"Original_Cost_RsCr\"] != 0),\n",
    "    (df[\"Latest_Revised_Cost_RsCr\"] - df[\"Original_Cost_RsCr\"]) / df[\"Original_Cost_RsCr\"] * 100,\n",
    "    np.nan\n",
    ")"
   ]
  },
  {
   "cell_type": "code",
   "execution_count": 36,
   "id": "7b9a552c",
   "metadata": {},
   "outputs": [
    {
     "name": "stdout",
     "output_type": "stream",
     "text": [
      "Top 10 by Cost Escalation %:\n",
      "             State                                           Allocated_To                          Sector  Project_Count  Original_Cost_RsCr  Latest_Revised_Cost_RsCr  Cost_Escalation_Pct\n",
      "   Andhra Pradesh Department of Water Resources, River\\nDevelopment & GR                 Water Resources              3            10901.50                  57269.50           425.335963\n",
      "            Assam                                      Ministry of Power          Electricity Generation              1             6285.33                  26075.50           314.862863\n",
      "           Odisha Department of Water Resources, River\\nDevelopment & GR                 Water Resources              2             1556.46                   5291.33           239.959267\n",
      "Arunachal Pradesh                                   Ministry of Railways                        Railways              1              435.00                   1250.00           187.356322\n",
      "        Karnataka                    Ministry of Petroleum & Natural Gas                  Energy Storage              1              678.00                   1732.00           155.457227\n",
      "    Uttar Pradesh Department of Water Resources, River\\nDevelopment & GR                 Water Resources              4             3694.65                   8775.49           137.518845\n",
      "          Haryana                                   Ministry of Railways                        Railways              4            53464.00                 126368.00           136.360916\n",
      "      Uttarakhand                                      Ministry of Power          Electricity Generation              3            11663.95                  26070.00           123.509189\n",
      "        Jharkhand Department of Water Resources, River\\nDevelopment & GR                 Water Resources              2             5430.04                  12010.30           121.182533\n",
      "          Gujarat              Ministry of Ports, Shipping and Waterways Tourism, Hospitality & Wellness              1              573.00                   1238.05           116.064572\n"
     ]
    }
   ],
   "source": [
    "# Top 10 by escalation %\n",
    "top10 = df.sort_values(\"Cost_Escalation_Pct\", ascending=False).head(10)[\n",
    "    [\"State\",\"Allocated_To\",\"Sector\",\"Project_Count\",\"Original_Cost_RsCr\",\"Latest_Revised_Cost_RsCr\",\"Cost_Escalation_Pct\"]\n",
    "]\n",
    "print(\"Top 10 by Cost Escalation %:\\n\", top10.to_string(index=False))"
   ]
  },
  {
   "cell_type": "code",
   "execution_count": 37,
   "id": "2d030539",
   "metadata": {},
   "outputs": [],
   "source": [
    "# Average escalation by sector and by state\n",
    "sector_avg = df.groupby(\"Sector\", dropna=False)[\"Cost_Escalation_Pct\"].mean().sort_values(ascending=False).reset_index()\n",
    "state_avg = df.groupby(\"State\", dropna=False)[\"Cost_Escalation_Pct\"].mean().sort_values(ascending=False).reset_index()"
   ]
  },
  {
   "cell_type": "code",
   "execution_count": 38,
   "id": "7b44662e",
   "metadata": {},
   "outputs": [
    {
     "name": "stdout",
     "output_type": "stream",
     "text": [
      "\n",
      "Top sectors by average escalation:\n",
      "                             Sector  Cost_Escalation_Pct\n",
      "   Tourism, Hospitality & Wellness           116.064572\n",
      "                   Water Resources            92.717800\n",
      "            Electricity Generation            35.031254\n",
      "                    Energy Storage            30.261945\n",
      "                          Railways            30.097782\n",
      "       Transmission & Distribution            14.383409\n",
      "                             Steel            11.725541\n",
      "                        Healthcare             8.218628\n",
      "                   Metals & Mining             7.143147\n",
      "                         Oil & Gas             7.040537\n",
      "            Urban Public Transport             6.550090\n",
      "Aviation & Aviation Infrastructure             3.114316\n",
      "                         Education             2.907246\n",
      "                              Coal             0.609058\n",
      "                     Waste & Water             0.000000\n",
      "\n",
      "Top states by average escalation:\n",
      "             State  Cost_Escalation_Pct\n",
      "        PAN India            86.207548\n",
      "Arunachal Pradesh            58.699587\n",
      "   Andhra Pradesh            44.356971\n",
      "            Assam            37.904598\n",
      "        Karnataka            30.009622\n",
      "           Kerala            28.215455\n",
      "           Sikkim            25.309159\n",
      "      Uttarakhand            24.701838\n",
      "          Manipur            21.920821\n",
      "          Haryana            21.212222\n",
      "        Telangana            19.566157\n",
      "      Maharashtra            19.115681\n",
      "           Odisha            17.800400\n",
      "          Gujarat            17.766339\n",
      "        Rajasthan            15.902185\n"
     ]
    }
   ],
   "source": [
    "print(\"\\nTop sectors by average escalation:\\n\", sector_avg.head(15).to_string(index=False))\n",
    "print(\"\\nTop states by average escalation:\\n\", state_avg.head(15).to_string(index=False))"
   ]
  },
  {
   "cell_type": "code",
   "execution_count": 39,
   "id": "423fdd6f",
   "metadata": {},
   "outputs": [
    {
     "name": "stdout",
     "output_type": "stream",
     "text": [
      "\n",
      "Saved: cost_overrun_top10.csv, sector_avg_escalation.csv, state_avg_escalation.csv\n"
     ]
    }
   ],
   "source": [
    "# Save outputs\n",
    "top10.to_csv(\"cost_overrun_top10.csv\", index=False)\n",
    "sector_avg.to_csv(\"sector_avg_escalation.csv\", index=False)\n",
    "state_avg.to_csv(\"state_avg_escalation.csv\", index=False)\n",
    "print(\"\\nSaved: cost_overrun_top10.csv, sector_avg_escalation.csv, state_avg_escalation.csv\")"
   ]
  },
  {
   "cell_type": "code",
   "execution_count": 40,
   "id": "ea239560",
   "metadata": {},
   "outputs": [
    {
     "data": {
      "text/html": [
       "<div>\n",
       "<style scoped>\n",
       "    .dataframe tbody tr th:only-of-type {\n",
       "        vertical-align: middle;\n",
       "    }\n",
       "\n",
       "    .dataframe tbody tr th {\n",
       "        vertical-align: top;\n",
       "    }\n",
       "\n",
       "    .dataframe thead th {\n",
       "        text-align: right;\n",
       "    }\n",
       "</style>\n",
       "<table border=\"1\" class=\"dataframe\">\n",
       "  <thead>\n",
       "    <tr style=\"text-align: right;\">\n",
       "      <th></th>\n",
       "      <th>State</th>\n",
       "      <th>Allocated_To</th>\n",
       "      <th>Sector</th>\n",
       "      <th>Project_Count</th>\n",
       "      <th>Cumulative_Expenditure_RsCr</th>\n",
       "      <th>Original_Cost_RsCr</th>\n",
       "      <th>Latest_Revised_Cost_RsCr</th>\n",
       "      <th>Cost_Escalation_Pct</th>\n",
       "    </tr>\n",
       "  </thead>\n",
       "  <tbody>\n",
       "    <tr>\n",
       "      <th>115</th>\n",
       "      <td>Karnataka</td>\n",
       "      <td>Department for Promotion of Industry &amp;\\nIntern...</td>\n",
       "      <td>Real Estate</td>\n",
       "      <td>1</td>\n",
       "      <td>88.25</td>\n",
       "      <td>1701.81</td>\n",
       "      <td>1701.81</td>\n",
       "      <td>0.000000</td>\n",
       "    </tr>\n",
       "    <tr>\n",
       "      <th>170</th>\n",
       "      <td>Nagaland</td>\n",
       "      <td>Department of Higher Education</td>\n",
       "      <td>Education</td>\n",
       "      <td>1</td>\n",
       "      <td>260.10</td>\n",
       "      <td>275.63</td>\n",
       "      <td>275.63</td>\n",
       "      <td>0.000000</td>\n",
       "    </tr>\n",
       "    <tr>\n",
       "      <th>149</th>\n",
       "      <td>Maharashtra</td>\n",
       "      <td>Ministry of Coal</td>\n",
       "      <td>Coal</td>\n",
       "      <td>25</td>\n",
       "      <td>3084.72</td>\n",
       "      <td>12455.88</td>\n",
       "      <td>12455.90</td>\n",
       "      <td>0.000161</td>\n",
       "    </tr>\n",
       "    <tr>\n",
       "      <th>72</th>\n",
       "      <td>Gujarat</td>\n",
       "      <td>Ministry of Coal</td>\n",
       "      <td>Electricity Generation</td>\n",
       "      <td>1</td>\n",
       "      <td>303.50</td>\n",
       "      <td>383.84</td>\n",
       "      <td>383.84</td>\n",
       "      <td>0.000000</td>\n",
       "    </tr>\n",
       "    <tr>\n",
       "      <th>125</th>\n",
       "      <td>Karnataka</td>\n",
       "      <td>Ministry of Steel</td>\n",
       "      <td>Steel</td>\n",
       "      <td>1</td>\n",
       "      <td>229.77</td>\n",
       "      <td>1043.63</td>\n",
       "      <td>1043.63</td>\n",
       "      <td>0.000000</td>\n",
       "    </tr>\n",
       "    <tr>\n",
       "      <th>240</th>\n",
       "      <td>Uttar Pradesh</td>\n",
       "      <td>Ministry of Ports, Shipping and Waterways</td>\n",
       "      <td>Inland Waterways</td>\n",
       "      <td>1</td>\n",
       "      <td>3510.72</td>\n",
       "      <td>5369.18</td>\n",
       "      <td>5061.15</td>\n",
       "      <td>-5.737003</td>\n",
       "    </tr>\n",
       "    <tr>\n",
       "      <th>190</th>\n",
       "      <td>Punjab</td>\n",
       "      <td>Department of Higher Education</td>\n",
       "      <td>Education</td>\n",
       "      <td>2</td>\n",
       "      <td>290.39</td>\n",
       "      <td>559.30</td>\n",
       "      <td>559.30</td>\n",
       "      <td>0.000000</td>\n",
       "    </tr>\n",
       "    <tr>\n",
       "      <th>129</th>\n",
       "      <td>Kerala</td>\n",
       "      <td>Ministry of Petroleum &amp; Natural Gas</td>\n",
       "      <td>Oil &amp; Gas</td>\n",
       "      <td>3</td>\n",
       "      <td>4912.37</td>\n",
       "      <td>7996.87</td>\n",
       "      <td>10990.90</td>\n",
       "      <td>37.440023</td>\n",
       "    </tr>\n",
       "    <tr>\n",
       "      <th>46</th>\n",
       "      <td>Chhattisgarh</td>\n",
       "      <td>Department of Water Resources, River\\nDevelopm...</td>\n",
       "      <td>Water Resources</td>\n",
       "      <td>2</td>\n",
       "      <td>616.93</td>\n",
       "      <td>842.26</td>\n",
       "      <td>1109.33</td>\n",
       "      <td>31.708736</td>\n",
       "    </tr>\n",
       "    <tr>\n",
       "      <th>162</th>\n",
       "      <td>Manipur</td>\n",
       "      <td>Ministry of Railways</td>\n",
       "      <td>Railways</td>\n",
       "      <td>1</td>\n",
       "      <td>15598.11</td>\n",
       "      <td>14323.00</td>\n",
       "      <td>21885.90</td>\n",
       "      <td>52.802486</td>\n",
       "    </tr>\n",
       "  </tbody>\n",
       "</table>\n",
       "</div>"
      ],
      "text/plain": [
       "             State                                       Allocated_To  \\\n",
       "115      Karnataka  Department for Promotion of Industry &\\nIntern...   \n",
       "170       Nagaland                     Department of Higher Education   \n",
       "149    Maharashtra                                   Ministry of Coal   \n",
       "72         Gujarat                                   Ministry of Coal   \n",
       "125      Karnataka                                  Ministry of Steel   \n",
       "240  Uttar Pradesh          Ministry of Ports, Shipping and Waterways   \n",
       "190         Punjab                     Department of Higher Education   \n",
       "129         Kerala                Ministry of Petroleum & Natural Gas   \n",
       "46    Chhattisgarh  Department of Water Resources, River\\nDevelopm...   \n",
       "162        Manipur                               Ministry of Railways   \n",
       "\n",
       "                     Sector  Project_Count  Cumulative_Expenditure_RsCr  \\\n",
       "115             Real Estate              1                        88.25   \n",
       "170               Education              1                       260.10   \n",
       "149                    Coal             25                      3084.72   \n",
       "72   Electricity Generation              1                       303.50   \n",
       "125                   Steel              1                       229.77   \n",
       "240        Inland Waterways              1                      3510.72   \n",
       "190               Education              2                       290.39   \n",
       "129               Oil & Gas              3                      4912.37   \n",
       "46          Water Resources              2                       616.93   \n",
       "162                Railways              1                     15598.11   \n",
       "\n",
       "     Original_Cost_RsCr  Latest_Revised_Cost_RsCr  Cost_Escalation_Pct  \n",
       "115             1701.81                   1701.81             0.000000  \n",
       "170              275.63                    275.63             0.000000  \n",
       "149            12455.88                  12455.90             0.000161  \n",
       "72               383.84                    383.84             0.000000  \n",
       "125             1043.63                   1043.63             0.000000  \n",
       "240             5369.18                   5061.15            -5.737003  \n",
       "190              559.30                    559.30             0.000000  \n",
       "129             7996.87                  10990.90            37.440023  \n",
       "46               842.26                   1109.33            31.708736  \n",
       "162            14323.00                  21885.90            52.802486  "
      ]
     },
     "execution_count": 40,
     "metadata": {},
     "output_type": "execute_result"
    }
   ],
   "source": [
    "df.sample(10)"
   ]
  },
  {
   "cell_type": "code",
   "execution_count": null,
   "id": "157100d2",
   "metadata": {},
   "outputs": [],
   "source": []
  }
 ],
 "metadata": {
  "kernelspec": {
   "display_name": "env",
   "language": "python",
   "name": "python3"
  },
  "language_info": {
   "codemirror_mode": {
    "name": "ipython",
    "version": 3
   },
   "file_extension": ".py",
   "mimetype": "text/x-python",
   "name": "python",
   "nbconvert_exporter": "python",
   "pygments_lexer": "ipython3",
   "version": "3.13.5"
  }
 },
 "nbformat": 4,
 "nbformat_minor": 5
}
