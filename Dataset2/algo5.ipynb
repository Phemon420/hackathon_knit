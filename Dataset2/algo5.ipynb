{
 "cells": [
  {
   "cell_type": "code",
   "execution_count": 5,
   "id": "2a9360bf",
   "metadata": {},
   "outputs": [
    {
     "name": "stdout",
     "output_type": "stream",
     "text": [
      "✅ RMSE on test set: 2,839.38 Rs Cr\n",
      "\n",
      "Feature importances:\n",
      "                     feature  importance\n",
      "         Original_Cost_RsCr    0.964358\n",
      "Cumulative_Expenditure_RsCr    0.033854\n",
      "              Project_Count    0.001788\n",
      "\n",
      "Saved: forecast_predictions.csv\n",
      "Saved model: sector_forecast_model.pkl\n"
     ]
    }
   ],
   "source": [
    "# sector_performance_forecasting.py\n",
    "import pandas as pd\n",
    "import numpy as np\n",
    "from sklearn.ensemble import RandomForestRegressor\n",
    "from sklearn.model_selection import train_test_split\n",
    "from sklearn.metrics import mean_squared_error\n",
    "import math\n",
    "import joblib  # for saving/loading model\n",
    "\n",
    "file_path = \"ongoing_projects2_clean.csv\"\n",
    "df = pd.read_csv(file_path).rename(columns=lambda c: c.strip())\n",
    "\n",
    "# --- Clean and rename columns ---\n",
    "for c in df.columns:\n",
    "    if \"Original Cost\" in c:\n",
    "        df = df.rename(columns={c: \"Original_Cost_RsCr\"})\n",
    "    if \"Latest Revised Cost\" in c:\n",
    "        df = df.rename(columns={c: \"Latest_Revised_Cost_RsCr\"})\n",
    "    if \"Project Count\" in c:\n",
    "        df = df.rename(columns={c: \"Project_Count\"})\n",
    "    if \"Cumulative\" in c:\n",
    "        df = df.rename(columns={c: \"Cumulative_Expenditure_RsCr\"})\n",
    "\n",
    "for col in [\"Original_Cost_RsCr\",\"Latest_Revised_Cost_RsCr\",\"Project_Count\",\"Cumulative_Expenditure_RsCr\"]:\n",
    "    if col in df.columns:\n",
    "        df[col] = pd.to_numeric(df[col], errors=\"coerce\")\n",
    "\n",
    "# --- Prepare data ---\n",
    "df = df[df[\"Latest_Revised_Cost_RsCr\"].notna() & (df[\"Latest_Revised_Cost_RsCr\"] > 0)].copy()\n",
    "df[\"Original_Cost_RsCr\"] = df[\"Original_Cost_RsCr\"].fillna(0)\n",
    "df[\"Project_Count\"] = df[\"Project_Count\"].fillna(0)\n",
    "df[\"Cumulative_Expenditure_RsCr\"] = df[\"Cumulative_Expenditure_RsCr\"].fillna(0)\n",
    "\n",
    "X = df[[\"Original_Cost_RsCr\",\"Project_Count\",\"Cumulative_Expenditure_RsCr\"]].values\n",
    "y = df[\"Latest_Revised_Cost_RsCr\"].values\n",
    "y_log = np.log1p(y)  # log-transform to reduce skew\n",
    "\n",
    "# --- Train/Test split ---\n",
    "X_train, X_test, y_train, y_test = train_test_split(X, y_log, test_size=0.2, random_state=42)\n",
    "\n",
    "# --- Model training ---\n",
    "model = RandomForestRegressor(n_estimators=200, random_state=42)\n",
    "model.fit(X_train, y_train)\n",
    "\n",
    "# --- Evaluate ---\n",
    "y_pred_log = model.predict(X_test)\n",
    "y_pred = np.expm1(y_pred_log)\n",
    "y_test_real = np.expm1(y_test)\n",
    "\n",
    "rmse = math.sqrt(mean_squared_error(y_test_real, y_pred))\n",
    "print(f\"✅ RMSE on test set: {rmse:,.2f} Rs Cr\")\n",
    "\n",
    "# --- Feature importance ---\n",
    "feat_imp = pd.DataFrame({\n",
    "    \"feature\": [\"Original_Cost_RsCr\",\"Project_Count\",\"Cumulative_Expenditure_RsCr\"],\n",
    "    \"importance\": model.feature_importances_\n",
    "}).sort_values(\"importance\", ascending=False)\n",
    "print(\"\\nFeature importances:\\n\", feat_imp.to_string(index=False))\n",
    "\n",
    "# --- Save predictions for inspection ---\n",
    "pred_df = pd.DataFrame({\n",
    "    \"Original\": X_test[:,0],\n",
    "    \"Project_Count\": X_test[:,1],\n",
    "    \"Cumulative_Expenditure\": X_test[:,2],\n",
    "    \"Actual_Latest_Revised_Cost\": y_test_real,\n",
    "    \"Predicted_Latest_Revised_Cost\": y_pred\n",
    "})\n",
    "pred_df.to_csv(\"forecast_predictions.csv\", index=False)\n",
    "print(\"\\nSaved: forecast_predictions.csv\")\n",
    "\n",
    "# --- Save model for reuse ---\n",
    "joblib.dump(model, \"sector_forecast_model.pkl\")\n",
    "print(\"Saved model: sector_forecast_model.pkl\")"
   ]
  },
  {
   "cell_type": "code",
   "execution_count": 6,
   "id": "9474ed0b",
   "metadata": {},
   "outputs": [],
   "source": [
    "\n",
    "# ---------------------------------------------------------\n",
    "# 🔮 Function to predict Latest Revised Cost for new projects\n",
    "# ---------------------------------------------------------\n",
    "def predict_new_project(original_cost, project_count, cumulative_expenditure, model_path=\"sector_forecast_model.pkl\"):\n",
    "    \"\"\"\n",
    "    Predicts the Latest Revised Cost (Rs Cr) for a new project.\n",
    "    \n",
    "    Parameters:\n",
    "        original_cost (float): Original cost in Rs Cr\n",
    "        project_count (int): Number of projects in that sector/state\n",
    "        cumulative_expenditure (float): Cumulative expenditure so far (Rs Cr)\n",
    "        model_path (str): Path to saved model\n",
    "    \n",
    "    Returns:\n",
    "        float: Predicted Latest Revised Cost (Rs Cr)\n",
    "    \"\"\"\n",
    "    model = joblib.load(model_path)\n",
    "    X_new = np.array([[original_cost, project_count, cumulative_expenditure]])\n",
    "    pred_log = model.predict(X_new)\n",
    "    predicted_cost = np.expm1(pred_log[0])  # reverse log-transform\n",
    "    return round(predicted_cost, 2)\n"
   ]
  },
  {
   "cell_type": "code",
   "execution_count": 7,
   "id": "b11a857d",
   "metadata": {},
   "outputs": [
    {
     "name": "stdout",
     "output_type": "stream",
     "text": [
      "\n",
      "🔮 Predicted Latest Revised Cost: 154.46 Rs Cr\n"
     ]
    }
   ],
   "source": [
    "\n",
    "\n",
    "# ✅ Example usage\n",
    "if __name__ == \"__main__\":\n",
    "    sample_pred = predict_new_project(original_cost=120.5, project_count=4, cumulative_expenditure=80.0)\n",
    "    print(f\"\\n🔮 Predicted Latest Revised Cost: {sample_pred} Rs Cr\")"
   ]
  },
  {
   "cell_type": "code",
   "execution_count": null,
   "id": "a6cd9f1f",
   "metadata": {},
   "outputs": [],
   "source": []
  }
 ],
 "metadata": {
  "kernelspec": {
   "display_name": "env",
   "language": "python",
   "name": "python3"
  },
  "language_info": {
   "codemirror_mode": {
    "name": "ipython",
    "version": 3
   },
   "file_extension": ".py",
   "mimetype": "text/x-python",
   "name": "python",
   "nbconvert_exporter": "python",
   "pygments_lexer": "ipython3",
   "version": "3.13.5"
  }
 },
 "nbformat": 4,
 "nbformat_minor": 5
}
