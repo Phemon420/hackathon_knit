{
 "cells": [
  {
   "cell_type": "code",
   "execution_count": null,
   "id": "3e99956a",
   "metadata": {},
   "outputs": [
    {
     "name": "stdout",
     "output_type": "stream",
     "text": [
      "Top 20 states by Total Latest Revised Cost:\n",
      "                            STATE NAME  Total_Projects  Total_Cumulative_Expenditure_RsCr  Total_Latest_Revised_Cost_RsCr  Avg_Escalation_Pct\n",
      "                          Maharashtra             108                          357609.40                       527681.32           19.115681\n",
      "                              Gujarat              73                          394515.63                       525463.04           17.766339\n",
      "                        Uttar Pradesh              62                          266754.07                       336421.92           15.825256\n",
      "                            Rajasthan              54                          237371.17                       325116.26           15.902185\n",
      "                            PAN India               6                           69165.67                       264213.00           86.207548\n",
      "                              Haryana              18                          171957.43                       206927.29           21.212222\n",
      "                               Odisha              63                           93795.09                       189864.86           17.800400\n",
      "                       Andhra Pradesh              51                          101854.10                       184356.49           44.356971\n",
      "                       Madhya Pradesh              54                           83662.69                       178215.76            2.158498\n",
      "                            Jharkhand              64                           71213.36                       171098.26           13.553847\n",
      "                    Arunachal Pradesh              10                          104473.14                       162592.22           58.699587\n",
      "                          West Bengal              58                           67125.94                       141866.23            1.765121\n",
      "                                Delhi              27                           52467.40                       137390.08            1.809905\n",
      "                                Bihar              49                           70793.13                       136380.14            6.487561\n",
      "                         Chhattisgarh              51                           51139.69                       128915.86            7.897140\n",
      "                           Tamil Nadu              20                           40378.81                       126585.74           12.607550\n",
      "                            Karnataka              40                           71868.70                       113376.01           30.009622\n",
      "Dadra & Nagar Haveli and\\nDaman & Diu               3                           84091.85                       112756.26            0.000000\n",
      "                                Assam              32                           85144.57                       106598.89           37.904598\n",
      "                          Uttarakhand               7                           46189.68                        68408.92           24.701838\n",
      "\n",
      "Saved state_level_aggregation.csv\n"
     ]
    }
   ],
   "source": [
    "# state_level_prioritization.py\n",
    "import pandas as pd\n",
    "import numpy as np\n",
    "\n",
    "file_path = \"ongoing_projects2_clean.csv\"\n",
    "df = pd.read_csv(file_path).rename(columns=lambda c: c.strip())\n",
    "\n",
    "# Standardize names used below if necessary\n",
    "for c in df.columns:\n",
    "    if \"Cumulative\" in c:\n",
    "        df = df.rename(columns={c: \"Cumulative_Expenditure_RsCr\"})\n",
    "    if \"Latest Revised Cost\" in c:\n",
    "        df = df.rename(columns={c: \"Latest_Revised_Cost_RsCr\"})\n",
    "    if \"Project Count\" in c:\n",
    "        df = df.rename(columns={c: \"Project_Count\"})\n",
    "    if \"Original Cost\" in c:\n",
    "        df = df.rename(columns={c: \"Original_Cost_RsCr\"})\n",
    "\n",
    "# Force numeric\n",
    "df[\"Project_Count\"] = pd.to_numeric(df.get(\"Project_Count\"), errors=\"coerce\").fillna(0)\n",
    "df[\"Cumulative_Expenditure_RsCr\"] = pd.to_numeric(df.get(\"Cumulative_Expenditure_RsCr\"), errors=\"coerce\").fillna(0)\n",
    "df[\"Latest_Revised_Cost_RsCr\"] = pd.to_numeric(df.get(\"Latest_Revised_Cost_RsCr\"), errors=\"coerce\").fillna(0)\n",
    "# compute escalation if missing\n",
    "if \"Cost_Escalation_Pct\" not in df.columns:\n",
    "    df[\"Cost_Escalation_Pct\"] = np.where(\n",
    "        (df.get(\"Original_Cost_RsCr\").notna()) & (df.get(\"Original_Cost_RsCr\") != 0),\n",
    "        (df[\"Latest_Revised_Cost_RsCr\"] - df[\"Original_Cost_RsCr\"]) / df[\"Original_Cost_RsCr\"] * 100,\n",
    "        np.nan\n",
    "    )\n",
    "\n",
    "state_agg = df.groupby(\"STATE NAME\" if \"STATE NAME\" in df.columns else \"State\", dropna=False).agg(\n",
    "    Total_Projects=(\"Project_Count\",\"sum\"),\n",
    "    Total_Cumulative_Expenditure_RsCr=(\"Cumulative_Expenditure_RsCr\",\"sum\"),\n",
    "    Total_Latest_Revised_Cost_RsCr=(\"Latest_Revised_Cost_RsCr\",\"sum\"),\n",
    "    Avg_Escalation_Pct=(\"Cost_Escalation_Pct\",\"mean\")\n",
    ").reset_index().sort_values(\"Total_Latest_Revised_Cost_RsCr\", ascending=False)\n",
    "\n",
    "print(\"Top 20 states by Total Latest Revised Cost:\\n\", state_agg.head(20).to_string(index=False))\n",
    "state_agg.to_csv(\"state_level_aggregation.csv\", index=False)\n",
    "print(\"\\nSaved state_level_aggregation.csv\")"
   ]
  },
  {
   "cell_type": "code",
   "execution_count": null,
   "id": "c954bcab",
   "metadata": {},
   "outputs": [],
   "source": []
  }
 ],
 "metadata": {
  "kernelspec": {
   "display_name": "env",
   "language": "python",
   "name": "python3"
  },
  "language_info": {
   "codemirror_mode": {
    "name": "ipython",
    "version": 3
   },
   "file_extension": ".py",
   "mimetype": "text/x-python",
   "name": "python",
   "nbconvert_exporter": "python",
   "pygments_lexer": "ipython3",
   "version": "3.13.5"
  }
 },
 "nbformat": 4,
 "nbformat_minor": 5
}
